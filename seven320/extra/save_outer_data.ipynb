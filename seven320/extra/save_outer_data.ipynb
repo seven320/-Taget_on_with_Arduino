{
  "nbformat": 4,
  "nbformat_minor": 0,
  "metadata": {
    "colab": {
      "name": "save_outer_data.ipynb",
      "provenance": [],
      "authorship_tag": "ABX9TyMMmJYCgKczbI/dkkFijRnP",
      "include_colab_link": true
    },
    "kernelspec": {
      "name": "python3",
      "display_name": "Python 3"
    },
    "language_info": {
      "name": "python"
    }
  },
  "cells": [
    {
      "cell_type": "markdown",
      "metadata": {
        "id": "view-in-github",
        "colab_type": "text"
      },
      "source": [
        "<a href=\"https://colab.research.google.com/github/seven320/-Target_on_with_Arduino/blob/master/seven320/extra/save_outer_data.ipynb\" target=\"_parent\"><img src=\"https://colab.research.google.com/assets/colab-badge.svg\" alt=\"Open In Colab\"/></a>"
      ]
    },
    {
      "cell_type": "markdown",
      "metadata": {
        "id": "S46JCEJTH46W"
      },
      "source": [
        "このファイルでは外部サイト\n",
        "\n",
        "https://systematicreviewsjournal.biomedcentral.com/articles?searchType=journalSearch&sort=PubDate&page=4\n",
        "\n",
        "に載っているシステマティックレビューのtitleとabstractをスクレイピングを用いて抽出します。\n"
      ]
    },
    {
      "cell_type": "code",
      "metadata": {
        "colab": {
          "base_uri": "https://localhost:8080/"
        },
        "id": "S_SlTJwUY705",
        "outputId": "b1429bce-2b6b-445e-d5dc-2e1887b60448"
      },
      "source": [
        "from google.colab import drive\n",
        "from google.colab import output\n",
        "drive.mount(\"/content/drive\")\n",
        "\n",
        "!cp /content/drive/MyDrive/signate/medical_paper_judge/input/*.csv ./"
      ],
      "execution_count": 1,
      "outputs": [
        {
          "output_type": "stream",
          "text": [
            "Drive already mounted at /content/drive; to attempt to forcibly remount, call drive.mount(\"/content/drive\", force_remount=True).\n"
          ],
          "name": "stdout"
        }
      ]
    },
    {
      "cell_type": "code",
      "metadata": {
        "id": "cJ1mevFy8-Sj"
      },
      "source": [
        "!pip install Levenshtein > /dev/null"
      ],
      "execution_count": 2,
      "outputs": []
    },
    {
      "cell_type": "code",
      "metadata": {
        "id": "W596jGsHZFiQ"
      },
      "source": [
        "import os, sys\n",
        "\n",
        "from urllib import request\n",
        "from bs4 import BeautifulSoup\n",
        "from tqdm import tqdm\n",
        "import time\n",
        "import numpy as np\n",
        "import pandas as pd\n",
        "from Levenshtein import distance, ratio\n",
        "from pathlib import Path"
      ],
      "execution_count": 3,
      "outputs": []
    },
    {
      "cell_type": "code",
      "metadata": {
        "id": "v1x7glcYhJNN"
      },
      "source": [
        "BASE_DIR = \"/content/drive/MyDrive/signate/medical_paper_judge\"\n",
        "SUBDIR = Path(os.path.join(BASE_DIR, f\"input\"))"
      ],
      "execution_count": 4,
      "outputs": []
    },
    {
      "cell_type": "code",
      "metadata": {
        "id": "O-9TwWRf0IpE"
      },
      "source": [
        "def get_titles(soup):\n",
        "    title_elements = soup.find_all(attrs = {\"data-test\":\"title-link\"})\n",
        "\n",
        "    titles = []\n",
        "    for e in title_elements:\n",
        "        if e.string is None:\n",
        "            continue\n",
        "        titles.append(e.string)\n",
        "    return titles"
      ],
      "execution_count": 5,
      "outputs": []
    },
    {
      "cell_type": "code",
      "metadata": {
        "id": "cpPQ2rtVYw7c"
      },
      "source": [
        "def get_abstracts(soup):\n",
        "    base_url = \"https://systematicreviewsjournal.biomedcentral.com\"\n",
        "\n",
        "    abstracts = []\n",
        "    title_elements = soup.find_all(attrs = {\"data-test\":\"title-link\"})\n",
        "    for e in title_elements:\n",
        "        if e.string is None:\n",
        "            continue\n",
        "        # 論文ごとのページ情報を取得しabstractを抽出\n",
        "        paper_url = base_url + e.get(\"href\")\n",
        "        response = request.urlopen(paper_url)\n",
        "        soup = BeautifulSoup(response)\n",
        "        response.close()\n",
        "\n",
        "        a = soup.find_all(attrs = {\"property\":\"og:description\"})\n",
        "\n",
        "        if len(a) == 1:\n",
        "            abstracts.append(a[0][\"content\"])\n",
        "        else:\n",
        "            abstracts.append(\"\")\n",
        "        time.sleep(1)\n",
        "\n",
        "    return abstracts"
      ],
      "execution_count": 6,
      "outputs": []
    },
    {
      "cell_type": "code",
      "metadata": {
        "colab": {
          "base_uri": "https://localhost:8080/"
        },
        "id": "P9w61qHJZBuk",
        "outputId": "4f54278c-5e42-49be-f58f-8c323e70df48"
      },
      "source": [
        "titles = []\n",
        "abstracts = []\n",
        "for i in tqdm(range(45)):\n",
        "    url = f\"https://systematicreviewsjournal.biomedcentral.com/articles?searchType=journalSearch&sort=PubDate&page={i}\"\n",
        "\n",
        "    response = request.urlopen(url)\n",
        "    soup = BeautifulSoup(response)\n",
        "    response.close()\n",
        "    time.sleep(1)\n",
        "\n",
        "    titles += get_titles(soup)\n",
        "    abstracts += get_abstracts(soup)\n",
        "\n",
        "    assert len(titles) == len(abstracts)"
      ],
      "execution_count": 7,
      "outputs": [
        {
          "output_type": "stream",
          "text": [
            "100%|██████████| 45/45 [1:15:49<00:00, 101.11s/it]\n"
          ],
          "name": "stderr"
        }
      ]
    },
    {
      "cell_type": "code",
      "metadata": {
        "id": "K-2dDH80OMdr"
      },
      "source": [
        "outer_data = pd.DataFrame(np.arange(4 * len(titles)).reshape(-1, 4),\n",
        "    columns = [\"id\", \"title\", \"abstract\", \"judgement\"]\n",
        ")"
      ],
      "execution_count": 8,
      "outputs": []
    },
    {
      "cell_type": "code",
      "metadata": {
        "id": "39RnGWYWOdEF"
      },
      "source": [
        "outer_data[\"title\"] = titles\n",
        "outer_data[\"abstract\"] = abstracts\n",
        "outer_data[\"id\"] = np.arange(len(titles))\n",
        "outer_data[\"judgement\"] = np.ones(len(titles), dtype = np.int8)"
      ],
      "execution_count": 9,
      "outputs": []
    },
    {
      "cell_type": "code",
      "metadata": {
        "id": "Kcpo9bd-SJRN"
      },
      "source": [
        "outer_data.to_csv(SUBDIR / f\"outer_data.csv\", index=False)"
      ],
      "execution_count": 10,
      "outputs": []
    },
    {
      "cell_type": "code",
      "metadata": {
        "id": "R9PvBDd9UTTK"
      },
      "source": [
        ""
      ],
      "execution_count": 10,
      "outputs": []
    },
    {
      "cell_type": "code",
      "metadata": {
        "id": "iW-5moktUajL"
      },
      "source": [
        ""
      ],
      "execution_count": 10,
      "outputs": []
    },
    {
      "cell_type": "code",
      "metadata": {
        "id": "T6e_527GU2k6"
      },
      "source": [
        ""
      ],
      "execution_count": 10,
      "outputs": []
    }
  ]
}